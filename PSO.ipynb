{
 "cells": [
  {
   "cell_type": "markdown",
   "metadata": {
    "colab_type": "text",
    "id": "V8og51plVAWi"
   },
   "source": [
    "# Algoritimo de otimização por enxame de particulas\n",
    "\n"
   ]
  },
  {
   "cell_type": "markdown",
   "metadata": {
    "colab_type": "text",
    "id": "AYl5Lj1LuMjw"
   },
   "source": [
    "\n",
    "Rafael dos Anjos\n",
    "\n",
    "Lorran Gabriel"
   ]
  },
  {
   "cell_type": "markdown",
   "metadata": {
    "colab_type": "text",
    "id": "MHo2gxqakA22"
   },
   "source": [
    "A técnica  de  otimização  por  enxame  de \n",
    "partículas  (PSO –  do  inglês Particle  Swarm\n",
    "Optimization),   foi   criada   por   Kennedy   e \n",
    "Eberhart ¹, a partir da análise \n",
    "comportamental  dos  pássaros  a  procura  de \n",
    "alimento  ou  de  um  local  para  construção  do \n",
    "ninho.  Na  procura  pelo  ninho  ou  alimento, \n",
    "todo  o  indivíduo  (partícula)  pode  lucrar  com \n",
    "as   experiências   dos   membros   do   grupo \n",
    "(enxame).   Kennedy  e  Eberhart  propuseram \n",
    "um algoritmo de otimização robusto, simples \n",
    "e de fácil implementação computacional. "
   ]
  },
  {
   "cell_type": "markdown",
   "metadata": {
    "colab_type": "text",
    "id": "jgor_EEPj2w4"
   },
   "source": [
    "### Pseudocódigo do PSO\n",
    ">>>>>>![alt text](https://i.imgur.com/8OWyFzk.png)\n",
    "\n",
    ">>>>>>Pseudo-Código do PSO ²"
   ]
  },
  {
   "cell_type": "markdown",
   "metadata": {
    "colab_type": "text",
    "id": "6jIgalPDgraE"
   },
   "source": [
    "### Pseudocódigo para melhor valor\n",
    "\n",
    ">>>>>>![alt text](https://i.imgur.com/nrJq7L3.jpg)\n",
    "\n",
    ">>>>>>Pseudocódigo do Algoritmo de Busca Local ³"
   ]
  },
  {
   "cell_type": "markdown",
   "metadata": {
    "colab_type": "text",
    "id": "JkKCY5AmfJ6K"
   },
   "source": [
    "\n",
    "A teoria do enxame trata do comportamento de seres que vivem em grupo, como abelhas, formigas, passaros e também o homem. Na tecnologia, existem alguns detalhes bastante interessantes que merecem ser abordados quando analisamos o comportamento humano diante de inovações tecnológicas. O algoritmo trata de experiencias e relações naturais, na teoria, o algoritimo segue padrões obtidos diante de analises comportamentais, e transcritos de forma a serem tratados."
   ]
  },
  {
   "cell_type": "markdown",
   "metadata": {
    "colab_type": "text",
    "id": "e_KjHG1rWsMq"
   },
   "source": [
    "\n",
    "Uma teoria sócio-cognitiva muito simples está por trás da PSO. Cada indivíduo de uma população possui sua própria experiência e é capaz de estimar a qualidade dessa experiência. Como os indivíduos são sociais, eles também possuem conhecimentos sobre como seus vizinhos comportam-se. Esses dois tipos de informação correspondem à aprendizagem individual (cognitiva) e à transmissão cultural (social), respectivamente. Portanto, a probabilidade de que um determinado indivíduo tome uma certa decisão será uma função de seu desempenho no passado e do desempenho de alguns de seus vizinhos. ⁴ "
   ]
  },
  {
   "cell_type": "code",
   "execution_count": 0,
   "metadata": {
    "colab": {},
    "colab_type": "code",
    "id": "bg_ELMqvZH_y"
   },
   "outputs": [],
   "source": [
    "\n",
    "import math\n",
    "import random\n",
    "import matplotlib.pyplot as plt\n",
    "\n",
    "\n",
    "def main(numIte,numparticula,execucao):\n",
    "\n",
    "    ListaGbest = []\n",
    "    for l in range(execucao):\n",
    "\n",
    "\n",
    "\n",
    "        particulas = []\n",
    "        pbest = []\n",
    "        gbest = []\n",
    "        velocidade = []\n",
    "        bordaInferior = -100\n",
    "        bordaSuperior = 100\n",
    "        melhorapt = 0\n",
    "        fi1 = 0\n",
    "        fi2 = 0\n",
    "        wmax = 0.9\n",
    "        wmin = 0.4\n",
    "        linha = \"\"\n",
    "        vx1 = random.randint(0.15 * bordaInferior, 0.15 * bordaSuperior)\n",
    "        vx2 = random.randint(0.15 * bordaInferior, 0.15 * bordaSuperior)\n",
    "        for i in range(numparticula):\n",
    "            x1 = random.randint(bordaInferior, bordaSuperior)\n",
    "            x2 = random.randint(bordaInferior, bordaSuperior)\n",
    "            particulas.append([x1, x2])\n",
    "            velocidade.append([vx1, vx2])\n",
    "\n",
    "        ListaGbest.append([])\n",
    "        for i in range(numIte):\n",
    "\n",
    "            for j in range(len(particulas)):\n",
    "                apt = 0.5 + ((math.sin(math.sqrt(particulas[j][0] ** 2 + particulas[j][1] ** 2))) ** 2 - 0.5) / (\n",
    "                            (1 + 0.001 * (particulas[j][0] ** 2 + particulas[j][1] ** 2)) ** 2)\n",
    "                if (i == 0):\n",
    "                    w = 0.9\n",
    "                    particulas[j].append(apt)\n",
    "                    pbest.append([particulas[j][0], particulas[j][1]])\n",
    "                    if i == 0 and j == 0:\n",
    "                        melhorapt = apt\n",
    "                        gbest.append(particulas[0][0])\n",
    "                        gbest.append(particulas[0][1])\n",
    "                    else:\n",
    "                        if (particulas[j][2] < melhorapt):\n",
    "                            melhorapt = particulas[j][2]\n",
    "                            gbest[0] = particulas[j][0]\n",
    "                            gbest[1] = particulas[j][1]\n",
    "\n",
    "                else:\n",
    "                    if (apt < particulas[j][2]):\n",
    "                        particulas[j][2] = apt\n",
    "                        pbest[j][0] = particulas[j][0]\n",
    "                        pbest[j][1] = particulas[j][1]\n",
    "\n",
    "                    if (particulas[j][2] < melhorapt):\n",
    "                        melhorapt = particulas[j][2]\n",
    "                        gbest[0] = particulas[j][0]\n",
    "                        gbest[1] = particulas[j][1]\n",
    "\n",
    "                w = wmax - j * ((wmax - wmin) / len(particulas))\n",
    "\n",
    "                for k in range(len(velocidade[0])):\n",
    "                    r1 = random.uniform(0, 1)\n",
    "                    r2 = random.uniform(0, 1)\n",
    "\n",
    "                    velocidade[j][k] =  (\n",
    "                                w * velocidade[j][k] + 2.05 * r1 * (pbest[j][k] - particulas[j][k]) + 2.05 * r2 * (\n",
    "                                    gbest[k] - particulas[j][k]))\n",
    "\n",
    "                    if velocidade[j][k] < -15:\n",
    "                        velocidade[j][k] = -15\n",
    "                    if velocidade[j][k] > 15:\n",
    "                        velocidade[j][k] = 15\n",
    "\n",
    "                    particulas[j][k] = particulas[j][k] + velocidade[j][k]\n",
    "\n",
    "                if particulas[j][0] > 100:\n",
    "                    particulas[j][0] = 100\n",
    "                    velocidade[j][0] = 0\n",
    "\n",
    "                if particulas[j][0] < -100:\n",
    "                    particulas[j][0] = 100\n",
    "                    velocidade[j][0] = 0\n",
    "\n",
    "                if particulas[j][1] > 100:\n",
    "                    particulas[j][1] = 100\n",
    "                    velocidade[j][1] = 0\n",
    "\n",
    "                if particulas[j][1] < -100:\n",
    "                    particulas[j][1] = 100\n",
    "                    velocidade[j][1] = 0\n",
    "            ListaGbest[l].append(melhorapt)\n",
    "\n",
    "            nomearq = str(numIte) + \"Gbest\" + str(l) + \".cvs\"\n",
    "            arq = open(nomearq, \"a\")\n",
    "            linha = str(gbest[0]) + \",\" + str(gbest[1]) + \",\" + str(melhorapt) + \"\\n\"\n",
    "            arq.write(linha)\n",
    "\n",
    "    PlotarmelhorGbest(ListaGbest)\n",
    "    Plotarmedia(ListaGbest)\n",
    "\n",
    "    return 0\n",
    "def PlotarmelhorGbest(ListaGbest):\n",
    "    menorindice = 0\n",
    "    menorgbest = ListaGbest[0][len(ListaGbest[0])-1]\n",
    "    for i in range (len(ListaGbest)):\n",
    "        if menorgbest > ListaGbest[i][len(ListaGbest[0])-1]:\n",
    "            menorgbest = ListaGbest[i][len(ListaGbest[0])-1]\n",
    "            menorindice = i\n",
    "    print(\"Melhor Gbest de todos: \",menorgbest)\n",
    "    plt.plot(ListaGbest[menorindice])\n",
    "    plt.show()\n",
    "def Plotarmedia(ListaGbest):\n",
    "    listamedia = []\n",
    "    somacol = 0\n",
    "    for i in range(len(ListaGbest[0])):\n",
    "        somacol = 0\n",
    "        for j in range(len(ListaGbest)):\n",
    "            somacol = somacol+ListaGbest[j][i]\n",
    "        somacol = somacol/10\n",
    "        listamedia.append(somacol)\n",
    "    print(\"Melhor media:  \",listamedia[len(listamedia)-1])\n",
    "    plt.plot(listamedia)\n",
    "    plt.show()\n",
    "    "
   ]
  },
  {
   "cell_type": "markdown",
   "metadata": {
    "colab_type": "text",
    "id": "XdtftPsu3LN7"
   },
   "source": [
    "### Grafico com 20 iterações\n"
   ]
  },
  {
   "cell_type": "code",
   "execution_count": 16,
   "metadata": {
    "colab": {
     "base_uri": "https://localhost:8080/",
     "height": 572
    },
    "colab_type": "code",
    "id": "JHWaMMPniTgy",
    "outputId": "82ec1949-556c-484e-c8a1-6dce49f4878b"
   },
   "outputs": [
    {
     "name": "stdout",
     "output_type": "stream",
     "text": [
      "Melhor Gbest de todos:  0.005561260298166892\n"
     ]
    },
    {
     "data": {
      "image/png": "[encoded data removed]",
      "text/plain": [
       "<Figure size 432x288 with 1 Axes>"
      ]
     },
     "metadata": {
      "tags": []
     },
     "output_type": "display_data"
    },
    {
     "name": "stdout",
     "output_type": "stream",
     "text": [
      "Melhor media:   0.01389188020562947\n"
     ]
    },
    {
     "data": {
      "image/png": "[encoded data removed]",
      "text/plain": [
       "<Figure size 432x288 with 1 Axes>"
      ]
     },
     "metadata": {
      "tags": []
     },
     "output_type": "display_data"
    },
    {
     "data": {
      "text/plain": [
       "0"
      ]
     },
     "execution_count": 16,
     "metadata": {
      "tags": []
     },
     "output_type": "execute_result"
    }
   ],
   "source": [
    "main(20,20,10)"
   ]
  },
  {
   "cell_type": "markdown",
   "metadata": {
    "colab_type": "text",
    "id": "EhljPbCpiPk3"
   },
   "source": [
    "###Grafico com 50 Interações\n"
   ]
  },
  {
   "cell_type": "code",
   "execution_count": 15,
   "metadata": {
    "colab": {
     "base_uri": "https://localhost:8080/",
     "height": 572
    },
    "colab_type": "code",
    "id": "hhsD8eU7iVT9",
    "outputId": "3b5179c2-3d2a-45c5-fdad-4a7751564e1b"
   },
   "outputs": [
    {
     "name": "stdout",
     "output_type": "stream",
     "text": [
      "Melhor Gbest de todos:  0.00016391238901247718\n"
     ]
    },
    {
     "data": {
      "image/png": "[encoded data removed]",
      "text/plain": [
       "<Figure size 432x288 with 1 Axes>"
      ]
     },
     "metadata": {
      "tags": []
     },
     "output_type": "display_data"
    },
    {
     "name": "stdout",
     "output_type": "stream",
     "text": [
      "Melhor media:   0.008554878091095319\n"
     ]
    },
    {
     "data": {
      "image/png": "[encoded data removed]",
      "text/plain": [
       "<Figure size 432x288 with 1 Axes>"
      ]
     },
     "metadata": {
      "tags": []
     },
     "output_type": "display_data"
    },
    {
     "data": {
      "text/plain": [
       "0"
      ]
     },
     "execution_count": 15,
     "metadata": {
      "tags": []
     },
     "output_type": "execute_result"
    }
   ],
   "source": [
    "main(50,20,10)"
   ]
  },
  {
   "cell_type": "markdown",
   "metadata": {
    "colab_type": "text",
    "id": "pzI6A68giQRN"
   },
   "source": [
    "###Grafico com 100 Interações\n"
   ]
  },
  {
   "cell_type": "code",
   "execution_count": 14,
   "metadata": {
    "colab": {
     "base_uri": "https://localhost:8080/",
     "height": 572
    },
    "colab_type": "code",
    "id": "CJ9AlkniiWA8",
    "outputId": "f4d2c8a9-f4b6-44d0-cdd3-bf436b9e8654"
   },
   "outputs": [
    {
     "name": "stdout",
     "output_type": "stream",
     "text": [
      "Melhor Gbest de todos:  1.3572482710499933e-05\n"
     ]
    },
    {
     "data": {
      "image/png": "[encoded data removed]",
      "text/plain": [
       "<Figure size 432x288 with 1 Axes>"
      ]
     },
     "metadata": {
      "tags": []
     },
     "output_type": "display_data"
    },
    {
     "name": "stdout",
     "output_type": "stream",
     "text": [
      "Melhor media:   0.006302497299414733\n"
     ]
    },
    {
     "data": {
      "image/png": "[encoded data removed]",
      "text/plain": [
       "<Figure size 432x288 with 1 Axes>"
      ]
     },
     "metadata": {
      "tags": []
     },
     "output_type": "display_data"
    },
    {
     "data": {
      "text/plain": [
       "0"
      ]
     },
     "execution_count": 14,
     "metadata": {
      "tags": []
     },
     "output_type": "execute_result"
    }
   ],
   "source": [
    "main(100,20,10)"
   ]
  },
  {
   "cell_type": "markdown",
   "metadata": {
    "colab_type": "text",
    "id": "63IX0DhHU_3Q"
   },
   "source": [
    "## Referencias\n",
    "\n",
    "¹ Kennedy,  J.;  Eberhart,  R.  C. The  1995  IEEE International Conference on Neural Networks, 1995, .1942-1948. \n",
    "\n",
    "\n",
    "² Monteiro, Caio & Bastos-Filho, Carmelo. (2016). Alocação de Comprimentos de Ondas em Redes Ópticas usando Otimização por Enxame de Partículas. Revista de Engenharia e Pesquisa Aplicada. 2. 10.25286/repa.v2i1.394. \n",
    "\n",
    "\n",
    "³ BONOTTO, Edison. (2014). ALGORITMO DE OTIMIZAÇÃO POR NUVEM DE PARTÍCULAS APLICADO AO PROBLEMA DA DIVERSIDADE MÁXIMA. \n",
    "\n",
    "\n",
    "⁴ SERAPIAO, Adriane Beatriz de Souza. Fundamentos de otimização por inteligência de enxames: uma visão geral. Sba Controle & Automação,  Natal ,  v. 20, n. 3, p. 271-304,  Sept.  2009 .   Available from <http://www.scielo.br/scielo.php?script=sci_arttext&pid=S0103-17592009000300002&lng=en&nrm=iso>. access on  25  Apr.  2019.  http://dx.doi.org/10.1590/S0103-17592009000300002.\n",
    "\n",
    "\n"
   ]
  }
 ],
 "metadata": {
  "colab": {
   "collapsed_sections": [],
   "name": "PSO.ipynb",
   "provenance": [],
   "version": "0.3.2"
  },
  "kernelspec": {
   "display_name": "Python 3",
   "language": "python",
   "name": "python3"
  },
  "language_info": {
   "codemirror_mode": {
    "name": "ipython",
    "version": 3
   },
   "file_extension": ".py",
   "mimetype": "text/x-python",
   "name": "python",
   "nbconvert_exporter": "python",
   "pygments_lexer": "ipython3",
   "version": "3.7.0"
  }
 },
 "nbformat": 4,
 "nbformat_minor": 1
}
